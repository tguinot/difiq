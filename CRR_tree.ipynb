{
  "cells": [
    {
      "cell_type": "markdown",
      "metadata": {
        "id": "view-in-github",
        "colab_type": "text"
      },
      "source": [
        "<a href=\"https://colab.research.google.com/github/tguinot/difiq/blob/main/CRR_tree.ipynb\" target=\"_parent\"><img src=\"https://colab.research.google.com/assets/colab-badge.svg\" alt=\"Open In Colab\"/></a>"
      ]
    },
    {
      "cell_type": "markdown",
      "metadata": {
        "id": "9t_CUgGHuAV9"
      },
      "source": [
        "# Pricing dans l'arbre de Cox-Ross-Rubinstein : options européennes vs. options américaines\n",
        "-----\n",
        "\n",
        "> **Antonin Chaix**\n",
        "\n",
        "Le but de ce TP et de mettre en place l'arbre de Cox-Ross-Rubinstein, connu pour converger vers le modèle de Black & Scholes, afin de pricer quelques options :\n",
        "* call et put européens (pour constater qu'on retombe sur les prix BS)\n",
        "* call et put américains (pour constater qu'en l'absence de dividendes, suivant le signe du taux d'intérêt, le prix de l'un ou de l'autre coïncide avec celui de son cousin européen. On pourra également s'intéresser au cas avec dividendes.)\n",
        "* call à barrière down & out (pour s'amuser un peu)\n",
        "\n",
        "Pour plus de détails sur le modèle binomial et l'arbre de pricing associé on pourra se reporter à cette [page wikipédia](https://en.wikipedia.org/wiki/Binomial_options_pricing_model).\n",
        "\n",
        "De notre côté, allons à l'essentiel : on définit les multiplicateurs $u$ et $d$ en fonction de la volatilité $\\sigma$ afin de faire converger le modèle binomial multi-période vers Black-Scholes :\n",
        "\n",
        "$$\n",
        "u = e^{\\sigma\\sqrt{\\Delta t}}\\qquad d = e^{\\sigma\\sqrt{\\Delta t}}\n",
        "$$\n",
        "\n",
        "et la probabilité risque-neutre :\n",
        "$$\n",
        "p = \\frac{e^{(r-q)\\Delta t}-d}{u-d}\n",
        "$$\n",
        "\n",
        "permettant de calculer à chaque noeud de l'arbre la valeur de l'option en fonction des valeurs de l'option aux deux noeuds associés au pas de temps suivant :\n",
        "\n",
        "$$\n",
        "V_{t,k} = e^{-r\\Delta t}\\left(pV_{t+\\Delta t,k}+(1-p)V_{t+\\Delta t,k+1}\\right)\n",
        "$$\n",
        "\n",
        "Cette valeur est amenée à être modifiée pour les produits américains ou path-dependent. Par exemple pour un call américain, on introduit la stratégie d'exercice de la façon suivante à chaque noeud (exercice vs. conservation de l'option) :\n",
        "\n",
        "$$\n",
        "V_{t,k} = \\max(S_{t,k}-K,e^{-r\\Delta t}\\left(pV_{t+\\Delta t,k}+(1-p)V_{t+\\Delta t,k+1}\\right) )\n",
        "$$\n",
        "\n",
        "ou encore pour une option à barrière se désactivant si le sous-jacent descend en dessous d'une barrière $H$ :\n",
        "\n",
        "$$\n",
        "V_{t,k} = e^{-r\\Delta t}\\left(pV_{t+\\Delta t,k}+(1-p)V_{t+\\Delta t,k+1}\\right) \\mathbb{1}_{\\{S_{t,k}>H\\}}\n",
        "$$\n"
      ]
    },
    {
      "cell_type": "markdown",
      "metadata": {
        "id": "nIJAwH7WBxky"
      },
      "source": [
        "## Construction de l'arbre\n",
        "\n",
        "On construit l'arbre avec les valeurs du sous-jacent dans un tableau de dimension `n_steps+1 x n_steps+1` où `n_steps` représente le nombre de pas de temps."
      ]
    },
    {
      "cell_type": "code",
      "execution_count": null,
      "metadata": {
        "id": "d_feaPsl_cPv"
      },
      "outputs": [],
      "source": [
        "import numpy as np\n",
        "import math\n",
        "\n",
        "# underlying params\n",
        "S0 = 100\n",
        "sigma = 0.2\n",
        "r = 0.015\n",
        "q = 0\n",
        "\n",
        "# tree params\n",
        "T = 1. # tree final date = options maturity\n",
        "n_steps = 750\n",
        "\n",
        "# Build tree for underlying\n",
        "dt = T / n_steps\n",
        "u = math.exp(sigma*math.sqrt(dt))\n",
        "d = 1./u\n",
        "p = (math.exp((r-q)*dt) - d) / (u - d)\n",
        "\n",
        "S = np.zeros((n_steps+1, n_steps+1))\n",
        "S[0,0] = S0\n",
        "\n",
        "for i in range(1, n_steps+1) :\n",
        "\tS[:i,i] = S[:i,i-1] * u\n",
        "\tS[i,i] = S[i-1,i-1] * d\n"
      ]
    },
    {
      "cell_type": "markdown",
      "metadata": {
        "id": "-hc-TCa_tTe3"
      },
      "source": [
        "Pour bien se réprésenter ce qu'on fait, voilà à quoi ressemble l'arbre avec les valeurs du sous-jacent (`r=0.015, q=0, sigma=0.2, n_steps=8`):\n",
        "\n",
        "```\n",
        "[[100.         107.32706603 115.19099102 123.63111098 132.68964411 142.41190195 152.84651603 164.04568118 176.06541655]\n",
        " [  0.          93.17314234 100.         107.32706603 115.19099102 123.63111098 132.68964411 142.41190195 152.84651603]\n",
        " [  0.           0.          86.81234454  93.17314234 100.         107.32706603 115.19099102 123.63111098 132.68964411]\n",
        " [  0.           0.           0.          80.88578935  86.81234454  93.17314234 100.         107.32706603 115.19099102]\n",
        " [  0.           0.           0.           0.          75.36383164  80.88578935  86.81234454  93.17314234 100.        ]\n",
        " [  0.           0.           0.           0.           0.          70.21885013  75.36383164  80.88578935  86.81234454]\n",
        " [  0.           0.           0.           0.           0.           0.          65.42510919  70.21885013  75.36383164]\n",
        " [  0.           0.           0.           0.           0.           0.           0.          60.95863011  65.42510919]\n",
        " [  0.           0.           0.           0.           0.           0.           0.           0.          56.7970712 ]]\n",
        "```\n",
        "\n"
      ]
    },
    {
      "cell_type": "markdown",
      "metadata": {
        "id": "x4dPwD-nttYo"
      },
      "source": [
        "## Fonction de pricing dans l'arbre\n",
        "\n",
        "On définit la fonction `tree_price` permettant d'évaluer un payoff quelconque dans l'arbre.\n",
        "\n",
        "La fonction `payoff` fournie à `tree_price` s'évalue à partir du time step `i = 0 ... n_steps` où on se trouve et de la valeur de l'option aux `n_nodes = i+1` noeuds correspondants."
      ]
    },
    {
      "cell_type": "code",
      "execution_count": null,
      "metadata": {
        "id": "EqLaBx1YtSYZ"
      },
      "outputs": [],
      "source": [
        "# tree price as a function of option payoff\n",
        "def tree_price (payoff) :\n",
        "  # option value\n",
        "  v = np.zeros(n_steps+1)\n",
        "  v = payoff(n_steps, v) # payoff at final date T\n",
        "\n",
        "  # discount between 2 time steps\n",
        "  discount = math.exp(-r*dt)\n",
        "\n",
        "\t# backward loop\n",
        "  for i in range(n_steps-1, -1, -1) : # => i = n_steps-1 ... 0\n",
        "    n_nodes = i+1 # i+1 nodes at time step #i\n",
        "    v[:n_nodes] = discount * ( p * v[:n_nodes] + (1-p) * v[1:n_nodes+1] )\n",
        "    v[:n_nodes] = payoff(i, v[:n_nodes])\n",
        "\n",
        "  return v[0]"
      ]
    },
    {
      "cell_type": "markdown",
      "metadata": {
        "id": "tQe6VQnYS4pT"
      },
      "source": [
        "## Pricing des options\n",
        "\n",
        "On s'intéresse à l'évaluation :\n",
        "\n",
        "* d'un call européen et du call américain correspondant\n",
        "* d'un put européen et du put américain correspondant\n",
        "* et en bonus, juste pour le fun, d'un call barrière down & out\n",
        "\n",
        "Il suffit donc de définir les 5 payoffs correspondants et d'appeler la fonction `tree_price`.\n",
        "\n",
        "On définit les fonctions `bs_call` et `bs_put` pour comparer les prix obtenus avec les prix Black & Scholes."
      ]
    },
    {
      "cell_type": "code",
      "execution_count": null,
      "metadata": {
        "colab": {
          "base_uri": "https://localhost:8080/"
        },
        "id": "5e2spRNlTARO",
        "outputId": "fe055dfb-01a2-4f81-844f-43680a6982fd"
      },
      "outputs": [
        {
          "name": "stdout",
          "output_type": "stream",
          "text": [
            "European call = 8.6702 (closed-form BS = 8.6728)\n",
            "American call = 8.6702\n",
            "European put  = 7.1814 (closed-form BS = 7.1840)\n",
            "American put  = 7.3056\n",
            "Down & out call = 7.2119\n"
          ]
        }
      ],
      "source": [
        "# === option payoffs\n",
        "K = 100 # strike\n",
        "H = 90 # down & out call barrier\n",
        "\n",
        "def european_call_payoff(i, v_i):\n",
        "\tif (i==n_steps):\n",
        "\t\tv_i = np.maximum(S[:,n_steps] - K, 0.)\n",
        "\treturn v_i\n",
        "\n",
        "def american_call_payoff(i, v_i):\n",
        "\tn_nodes = i+1 # i+1 nodes at time step #i\n",
        "\treturn np.maximum(S[:n_nodes,i] - K, v_i)\n",
        "\n",
        "def european_put_payoff(i, v_i):\n",
        "\tif (i==n_steps):\n",
        "\t\tv_i = np.maximum(K - S[:,n_steps], 0.)\n",
        "\treturn v_i\n",
        "\n",
        "def american_put_payoff(i, v_i):\n",
        "\tn_nodes = i+1 # i+1 nodes at time step #i\n",
        "\treturn np.maximum(K - S[:n_nodes,i], v_i)\n",
        "\n",
        "def down_and_out_call_payoff(i, v_i):\n",
        "\tif (i==n_steps):\n",
        "\t\tv_i = np.maximum(S[:,n_steps] - K, 0.)\n",
        "\tn_nodes = i+1 # i+1 nodes at time step #i\n",
        "\tv_i = np.where(S[:n_nodes,i] > H, v_i, 0.)\n",
        "\treturn v_i\n",
        "\n",
        "# tree price european & american calls & puts + down & out call\n",
        "european_call = tree_price(european_call_payoff)\n",
        "american_call = tree_price(american_call_payoff)\n",
        "european_put  = tree_price(european_put_payoff)\n",
        "american_put  = tree_price(american_put_payoff)\n",
        "down_and_out_call = tree_price(down_and_out_call_payoff)\n",
        "\n",
        "\n",
        "# BS functions\n",
        "from scipy.stats import norm\n",
        "\n",
        "# BS formula for a call\n",
        "def bs_call(T, K, S0, sigma, r) :\n",
        "\tif (T==0 or sigma==0) : return max(S0-K, 0)\n",
        "\tsigma_sqrt_T = sigma * math.sqrt(T)\n",
        "\td1 = (math.log(S0/K) + (r + 0.5 * sigma**2) * T) / sigma_sqrt_T\n",
        "\td2 = d1 - sigma_sqrt_T\n",
        "\treturn S0 * norm.cdf(d1) - K * math.exp(-r*T) * norm.cdf(d2)\n",
        "\n",
        "# BS formula for a put\n",
        "def bs_put(T, K, S0, sigma, r) :\n",
        "\tif (T==0 or sigma==0) : return max(S0-K, 0)\n",
        "\tsigma_sqrt_T = sigma * math.sqrt(T)\n",
        "\td1 = (math.log(S0/K) + (r + 0.5 * sigma**2) * T) / sigma_sqrt_T\n",
        "\td2 = d1 - sigma_sqrt_T\n",
        "\treturn -S0 * norm.cdf(-d1) + K * math.exp(-r*T) * norm.cdf(-d2)\n",
        "\n",
        "# display\n",
        "F0 = S0*math.exp((r-q)*T)\n",
        "df = math.exp(-r*T)\n",
        "print(\"European call = {:.4f} (closed-form BS = {:.4f})\".format(european_call , df * bs_call(T, K, F0, sigma, 0) ))\n",
        "print(\"American call = {:.4f}\".format(american_call))\n",
        "print(\"European put  = {:.4f} (closed-form BS = {:.4f})\".format(european_put, df * bs_put(T, K, F0, sigma, 0) ))\n",
        "print(\"American put  = {:.4f}\".format(american_put))\n",
        "print(\"Down & out call = {:.4f}\".format(down_and_out_call))\n"
      ]
    },
    {
      "cell_type": "markdown",
      "metadata": {
        "id": "ydDYASimDxAl"
      },
      "source": [
        "On constate que si $r>0$, en l'absence de dividendes ($q=0$), le prix de call américain est rigoureusement égal au prix du call européen.\n",
        "\n",
        "En effet, à toute date $t<T$ le prix du call américain et supérieur ou égal au prix du call européen, lui même strictement plus cher que sa valeur intrinsèque :\n",
        "\n",
        "$$\n",
        "C_t^\\text{us} \\geq C_t^\\text{eur} > \\text{VI}_t = \\left(S_t - Ke^{-r(T-t)}\\right)^+\n",
        "$$\n",
        "\n",
        "Or, si $r>0$, on a $\\text{VI}_t > S_t-K$ si bien que :\n",
        "\n",
        "$$\n",
        "C_t^\\text{us} > S_t - K\n",
        "$$\n",
        "\n",
        "Autrement dit, à toute date $t<T$, il n'est jamais optimal d'exercer le call américain, puisque son exercice immédiat rapporte toujours moins que le fait de conserver l'option ! Et un call américain sans exercice anticipé est un call... européen !\n",
        "\n",
        "En revanche, dans cette situation où $r>0$, le put américain vaut strictement plus cher que le put européen.\n",
        "\n",
        "A l'inverse, si $r<0$, le call américain sera strictement plus cher que le call européen et le put américain aura strictement le même prix que le put européen car :\n",
        "\n",
        "$$\n",
        "P_t^\\text{us} \\geq P_t^\\text{eur} > \\text{VI}_t = \\left(Ke^{-r(T-t)}- S_t\\right)^+ > K-S_t\n",
        "$$\n",
        "\n",
        "A noter que si $r=0$ et $q=0$, les prix de nos 4 options (calls et puts américains et européens) coïncident parfaitement.\n",
        "\n",
        "Dès qu'il y a des dividendes ($q>0$) on constate la chose suivante :\n",
        "\n",
        "- Si $r>0$, et le call américain ET le put américain sont plus chers que leurs versions européenes.\n",
        "\n",
        "- Si $r < 0$, le call américain est plus cher que le call européen, MAIS  le put américain a même prix que le put européen.\n",
        "\n",
        "Pourquoi les prix des puts américain et européens coïncident-ils dans le cas $q>0$ ? Car puisque $Ke^{-r(T-t)}>K$ et $S_te^{-q(T-t)}<S_t$ on a :\n",
        "\n",
        "$$\n",
        "P_t^\\text{us} \\geq P_t^\\text{eur} > \\text{VI}_t = \\left(Ke^{-r(T-t)}- S_te^{-q(T-t)}\\right)^+ > K-S_t\n",
        "$$\n",
        "\n",
        "et la valeur d'un exercice immédiat du put américain rapporte toujours moins que la conservation de l'option. Il n'est jamais optimal de l'exercer de façon anticipée et il se transforme ainsi en put européen.\n",
        "\n",
        "**Important** : on utilise ici le modèle de Black & Scholes (vers lequel converge l'arbre binomial quand on fait tendre le nombre de pas de temps vers l'infini) mais **les propriétés ci-dessus sur les prix des américaines sont complétement d'indépendantes du modèle utilisé**.\n"
      ]
    }
  ],
  "metadata": {
    "colab": {
      "provenance": [],
      "include_colab_link": true
    },
    "kernelspec": {
      "display_name": "Python 3 (ipykernel)",
      "language": "python",
      "name": "python3"
    },
    "language_info": {
      "codemirror_mode": {
        "name": "ipython",
        "version": 3
      },
      "file_extension": ".py",
      "mimetype": "text/x-python",
      "name": "python",
      "nbconvert_exporter": "python",
      "pygments_lexer": "ipython3",
      "version": "3.11.3"
    }
  },
  "nbformat": 4,
  "nbformat_minor": 0
}