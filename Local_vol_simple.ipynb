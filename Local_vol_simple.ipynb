{
  "cells": [
    {
      "cell_type": "markdown",
      "metadata": {
        "id": "view-in-github",
        "colab_type": "text"
      },
      "source": [
        "<a href=\"https://colab.research.google.com/github/tguinot/difiq/blob/main/Local_vol_simple.ipynb\" target=\"_parent\"><img src=\"https://colab.research.google.com/assets/colab-badge.svg\" alt=\"Open In Colab\"/></a>"
      ]
    },
    {
      "cell_type": "markdown",
      "metadata": {
        "id": "JLL7Y649OovR"
      },
      "source": [
        "# Monte Carlo dans un modèle à volatilité locale simplifié\n",
        "\n",
        "> **Antonin Chaix**\n",
        "\n",
        "La dynamique de l'actif est donné par l'EDS suivante, sous la mesure risque-neutre :\n",
        "\n",
        "$$\n",
        "\\frac{dS_t}{S_t}=\\mu(t) dt+\\sigma(t,S_t)dW_t\n",
        "$$\n",
        "\n",
        "On s'intéresse à ce modèle dans le cas d'un actif sans dividendes ($\\mu(t)=r$) et d'une nappe de volatilité implicite très simple, donnée par :\n",
        "\n",
        "$$\n",
        "\\hat \\sigma(T,K) = a + b (K-S_0)\n",
        "$$\n",
        "\n",
        "avec `a = 0.2` et `b = -0.001`.\n",
        "\n",
        "**NB** : une version beaucoup plus générale du modèle à vol locale est implémentée dans [ce colab](https://colab.research.google.com/drive/1Jc0EUawS9uXigJ7A4er1joMr-8eJH80W?usp=sharing).\n",
        "\n",
        "Rappelons la formule de Dupire :\n",
        "\n",
        "$$\n",
        "\\sigma^2(T,K)=\\frac{2\\frac{\\partial \\hat\\sigma}{\\partial T}+\\frac{\\hat\\sigma}{T}+2K\\mu(T)\\frac{\\partial \\hat\\sigma}{\\partial K}}\n",
        "{K^2\\left[\\frac{\\partial^2 \\hat\\sigma}{\\partial K^2}-d_1\\sqrt{T}\\left(\\frac{\\partial \\hat\\sigma}{\\partial K}\\right)^2+\\frac{1}{\\hat\\sigma\n",
        "}\\left(\\frac{1}{K\\sqrt{T}}+d_1\\frac{\\partial \\hat\\sigma}{\\partial K}\\right)^2\\right]}\\\\\n",
        "$$\n",
        "avec\n",
        "$$\n",
        "d_1=\\frac{\\ln(S_0/K)+\\int_0^T\\mu(s)ds}{\\hat\\sigma\\sqrt{T}}\n",
        "+ \\frac{1}{2}\\hat\\sigma\\sqrt{T}\n",
        "$$\n",
        "\n",
        "Elle se simplifie ici en :\n",
        "\n",
        "$$\n",
        "\\sigma^2(T,K)=\\frac{\\frac{\\hat\\sigma}{T}+2Krb}\n",
        "{K^2\\left[-d_1\\sqrt{T}b^2+\\frac{1}{\\hat\\sigma\n",
        "}\\left(\\frac{1}{K\\sqrt{T}}+d_1b\\right)^2\\right]}\n",
        "$$\n",
        "\n",
        "Pour obtenir la volatililité au point $(t,S_t)$, on calculera donc :\n",
        "\n",
        "$$\n",
        "\\sigma(t,S_t)=\\sqrt{\\frac{\\frac{\\hat\\sigma(t,S_t)}{t}+2S_trb}\n",
        "{S_t^2\\left[-d_1\\sqrt{t}b^2+\\frac{1}{\\hat\\sigma(t,S_t)\n",
        "}\\left(\\frac{1}{S_t\\sqrt{t}}+d_1b\\right)^2\\right]}}\n",
        "$$\n",
        "\n",
        "avec :\n",
        "\n",
        "$$\n",
        "\\hat \\sigma(t,S_t) = a + b (S_t-S_0)\\qquad\\qquad d_1=\\frac{\\ln(S_0/S_t)+rt}{\\hat\\sigma\\sqrt{t}}\n",
        "+ \\frac{1}{2}\\hat\\sigma\\sqrt{t}\n",
        "$$\n",
        "\n",
        "On définit tout d'abord vol implicite et vol locale :"
      ]
    },
    {
      "cell_type": "code",
      "execution_count": null,
      "metadata": {
        "id": "A_J1hy8WOmWY"
      },
      "outputs": [],
      "source": [
        "import numpy as np\n",
        "import math\n",
        "\n",
        "# params vol implicite\n",
        "A = 0.2\n",
        "B = -0.001\n",
        "\n",
        "def implied_vol(T, K) :\n",
        "\treturn A + B * (K - S0)\n",
        "\n",
        "def local_vol(t, S) :\n",
        "\tif (t==0) : t = 0.0000000001\n",
        "\tsqrt_t = np.sqrt(t)\n",
        "\tvol = implied_vol(t, S)\n",
        "\td1 = (np.log(S0 / S) + (r + 0.5 * vol**2) * t) / (vol * sqrt_t)\n",
        "\tdenom = S**2 * (-d1 * sqrt_t * B**2 + (1 / (S * sqrt_t) + d1 * B)**2 / vol)\n",
        "\treturn np.sqrt((vol / t + 2 * S * r * B) / denom)\n"
      ]
    },
    {
      "cell_type": "markdown",
      "metadata": {
        "id": "ktNtH4VQ4Qe5"
      },
      "source": [
        "Puis on génère les trajectoires de l'actif dans le modèle à vol locale."
      ]
    },
    {
      "cell_type": "code",
      "execution_count": null,
      "metadata": {
        "id": "SVWS8BH-4Pid"
      },
      "outputs": [],
      "source": [
        "# Horizon du Monte Carlo = maturité des options évaluées\n",
        "T = 1\n",
        "\n",
        "# taux d'intérêt\n",
        "r = 0.015\n",
        "\n",
        "# spot\n",
        "S0 = 100\n",
        "\n",
        "# MC params\n",
        "Nsimul = 5*10**5\n",
        "Nsteps = 100\n",
        "\n",
        "# time steps\n",
        "dT = T / Nsteps\n",
        "t = np.linspace(0, T, num=Nsteps+1, endpoint=True)\n",
        "\n",
        "# generation normales\n",
        "norm = np.random.normal(0, 1, (Nsteps, Nsimul))\n",
        "\n",
        "# initialisation du tableau contenant les trajectoires\n",
        "S = np.empty(shape=(Nsteps + 1, Nsimul))\n",
        "S[0,:] = S0\n",
        "\n",
        "# precalc\n",
        "sqrt_dt = math.sqrt(dT)\n",
        "\n",
        "# MC loop\n",
        "for j in range(Nsteps) :\n",
        "\tsigma = local_vol(t[j], S[j,:])\n",
        "\tS[j+1,:] = S[j,:] * np.exp( (r - 0.5 * sigma**2) * dT + sigma * sqrt_dt * norm[j,:])\n"
      ]
    },
    {
      "cell_type": "markdown",
      "metadata": {
        "id": "PPRONfht5LsH"
      },
      "source": [
        "Il n'y a plus qu'à évaluer les options souhaitées et à comparer les prix obtenus aux valeurs attendues..."
      ]
    },
    {
      "cell_type": "code",
      "execution_count": null,
      "metadata": {
        "colab": {
          "base_uri": "https://localhost:8080/"
        },
        "id": "vCyzFiCq5QEg",
        "outputId": "6db82e6f-d92d-419f-cafa-4b79382f8ce7"
      },
      "outputs": [
        {
          "name": "stdout",
          "output_type": "stream",
          "text": [
            "ATM vol = 20.00%\n",
            "Call ATM vol locale = 8.6733 (closed-form price = 8.6728)\n",
            "IC 95% = [8.6404 ; 8.7063]\n",
            "-----------------------------------------------------\n",
            "ITM vol = 22.00%\n",
            "Call ITM vol locale = 22.5707 (closed-form price = 22.5729)\n",
            "IC 95% = [22.5225 ; 22.6188]\n",
            "-----------------------------------------------------\n",
            "OTM vol = 18.00%\n",
            "Call OTM vol locale = 1.8684 (closed-form price = 1.8566)\n",
            "IC 95% = [1.8537 ; 1.8831]\n",
            "-----------------------------------------------------\n",
            "Call Down & Out vol locale = 7.2840\n",
            "IC 95% = [7.2513 ; 7.3167]\n",
            "-----------------------------------------------------\n",
            "Binaire ATM vol locale = 0.5215 (closed-form price = 0.5220)\n",
            "IC 95% = [0.5202 ; 0.5229]\n",
            "-----------------------------------------------------\n",
            "Binaire ATM BS (no skew) = 0.4828\n"
          ]
        }
      ],
      "source": [
        "from scipy.stats import norm\n",
        "\n",
        "# BS call function\n",
        "def bs_call(T, K, F0, sigma, r) :\n",
        "\tsigma_sqrt_T = sigma * math.sqrt(T)\n",
        "\td1 = (math.log(F0/K) + (r + 0.5 * sigma**2) * T) / sigma_sqrt_T\n",
        "\td2 = d1 - sigma_sqrt_T\n",
        "\treturn S0 * norm.cdf(d1) - K * math.exp(-r*T) * norm.cdf(d2)\n",
        "\n",
        "# MC price & confidence interval\n",
        "def compute_and_print_price(payoff, option_name, closed_form_price = -1) :\n",
        "\tprice = np.mean(payoff)\n",
        "\tstdev = np.std(payoff)\n",
        "\tIClow = price - 1.96 * stdev / math.sqrt(Nsimul)\n",
        "\tICup = price + 1.96 * stdev / math.sqrt(Nsimul)\n",
        "\tif (closed_form_price == -1) : print(\"{} = {:.4f}\".format(option_name, price) )\n",
        "\telse : \tprint(\"{} = {:.4f} (closed-form price = {:.4f})\".format(option_name, price, closed_form_price) )\n",
        "\tprint(\"IC 95% = [{:.4f} ; {:.4f}]\".format(IClow,ICup) )\n",
        "\tprint(\"-----------------------------------------------------\")\n",
        "\n",
        "# strikes\n",
        "K_atm = 100\n",
        "K_itm = 80\n",
        "K_otm = 120\n",
        "\n",
        "# down & out call barrier\n",
        "H = 90\n",
        "\n",
        "# discount factor\n",
        "DF = math.exp(-r * T)\n",
        "\n",
        "# MC payoffs\n",
        "payoff_call_atm = DF * np.maximum(S[-1,:] - K_atm , 0)\n",
        "payoff_call_itm = DF * np.maximum(S[-1,:] - K_itm , 0)\n",
        "payoff_call_otm = DF * np.maximum(S[-1,:] - K_otm , 0)\n",
        "payoff_call_down_and_out = np.where(S.min(axis=0) > H, payoff_call_atm, 0.)\n",
        "payoff_digital = DF * np.where(S[-1,:] > K_atm, 1., 0.)\n",
        "\n",
        "# closed forms\n",
        "call_atm = bs_call(T, K_atm, S0, implied_vol(T, K_atm), r)\n",
        "call_itm = bs_call(T, K_itm, S0, implied_vol(T, K_itm), r)\n",
        "call_otm = bs_call(T, K_otm, S0, implied_vol(T, K_otm), r)\n",
        "\n",
        "vol_minus = implied_vol(T, K_atm-1)\n",
        "vol_plus  = implied_vol(T, K_atm+1)\n",
        "digital_atm = (bs_call(T, K_atm-1, S0, vol_minus, r) - bs_call(T, K_atm+1, S0, vol_plus, r)) / 2.\n",
        "digital_atm_bs = (bs_call(T, K_atm-1, S0, implied_vol(T, K_atm), r) - bs_call(T, K_atm+1, S0, implied_vol(T, K_atm), r)) / 2.\n",
        "\n",
        "# compute & display\n",
        "print(\"ATM vol = {:.2f}%\".format(100*implied_vol(T, K_atm)))\n",
        "compute_and_print_price(payoff_call_atm, \"Call ATM vol locale\", call_atm)\n",
        "print(\"ITM vol = {:.2f}%\".format(100*implied_vol(T, K_itm)))\n",
        "compute_and_print_price(payoff_call_itm, \"Call ITM vol locale\", call_itm)\n",
        "print(\"OTM vol = {:.2f}%\".format(100*implied_vol(T, K_otm)))\n",
        "compute_and_print_price(payoff_call_otm, \"Call OTM vol locale\", call_otm)\n",
        "compute_and_print_price(payoff_call_down_and_out, \"Call Down & Out vol locale\")\n",
        "compute_and_print_price(payoff_digital, \"Binaire ATM vol locale\", digital_atm)\n",
        "print(\"Binaire ATM BS (no skew) = {:.4f}\".format(digital_atm_bs))\n"
      ]
    }
  ],
  "metadata": {
    "colab": {
      "provenance": [],
      "include_colab_link": true
    },
    "kernelspec": {
      "display_name": "Python 3 (ipykernel)",
      "language": "python",
      "name": "python3"
    },
    "language_info": {
      "codemirror_mode": {
        "name": "ipython",
        "version": 3
      },
      "file_extension": ".py",
      "mimetype": "text/x-python",
      "name": "python",
      "nbconvert_exporter": "python",
      "pygments_lexer": "ipython3",
      "version": "3.11.3"
    }
  },
  "nbformat": 4,
  "nbformat_minor": 0
}